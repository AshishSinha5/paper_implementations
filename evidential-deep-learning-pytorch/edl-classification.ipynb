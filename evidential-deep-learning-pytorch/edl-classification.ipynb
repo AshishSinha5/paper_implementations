{
 "cells": [
  {
   "cell_type": "code",
   "execution_count": 3,
   "metadata": {},
   "outputs": [],
   "source": [
    "import datetime \n",
    "from tqdm import tqdm"
   ]
  },
  {
   "cell_type": "code",
   "execution_count": 4,
   "metadata": {},
   "outputs": [],
   "source": [
    "# https://arxiv.org/abs/1806.01768\n",
    "# https://arxiv.org/abs/1910.02600\n",
    "\n",
    "import numpy as np\n",
    "import pandas as pd\n",
    "import matplotlib.pyplot as plt\n",
    "\n",
    "import torch \n",
    "import torch.nn as nn\n",
    "from torch import optim\n",
    "from torch.utils.data import Dataset\n",
    "from torch.utils.data import DataLoader"
   ]
  },
  {
   "cell_type": "code",
   "execution_count": 5,
   "metadata": {},
   "outputs": [],
   "source": [
    "from sklearn.metrics import roc_auc_score, accuracy_score"
   ]
  },
  {
   "cell_type": "code",
   "execution_count": 6,
   "metadata": {},
   "outputs": [
    {
     "name": "stdout",
     "output_type": "stream",
     "text": [
      "2.0.1\n",
      "torch.cuda.is_available() = True\n",
      "torch.cuda.device_count() = 1\n",
      "torch.cuda.get_device_name(0) = 'NVIDIA T1200 Laptop GPU'\n"
     ]
    }
   ],
   "source": [
    "print(torch.__version__) # Get PyTorch and CUDA version\n",
    "print(f\"{torch.cuda.is_available() = }\") # Check that CUDA works\n",
    "print(f\"{torch.cuda.device_count() = }\") # Check how many CUDA capable devices you have\n",
    "# Print device human readable names\n",
    "print(f\"{torch.cuda.get_device_name(0) = }\")\n",
    "# Add more lines with +1 like get_device_name(3), get_device_name(4) if you have more devices."
   ]
  },
  {
   "cell_type": "code",
   "execution_count": 7,
   "metadata": {},
   "outputs": [],
   "source": [
    "device = torch.device('cuda:0' if torch.cuda.is_available() else 'cpu')\n",
    "torch.cuda.set_device(0)"
   ]
  },
  {
   "attachments": {},
   "cell_type": "markdown",
   "metadata": {},
   "source": [
    "## Create the MLP Model"
   ]
  },
  {
   "cell_type": "code",
   "execution_count": 155,
   "metadata": {},
   "outputs": [],
   "source": [
    "class clf_model(nn.Module):\n",
    "    def __init__(self, units:list, n_classes:int = 10):\n",
    "        super().__init__()\n",
    "        self.units = units\n",
    "        self.n_layers = len(self.units)\n",
    "        self.n_classes = n_classes\n",
    "        self.output = nn.Softmax(dim=1)\n",
    "        \n",
    "        # layers\n",
    "        self.layers = nn.ModuleList()\n",
    "        self.get_layers()\n",
    "        ## loss\n",
    "        self.cross_entropy_loss = nn.CrossEntropyLoss()\n",
    "\n",
    "        print(f'Model Intialized: {self}')\n",
    "\n",
    "\n",
    "    def forward(self, x):\n",
    "        \n",
    "        for layer in self.layers:\n",
    "            x = layer(x)\n",
    "\n",
    "        x = self.output(x)\n",
    "\n",
    "        return x\n",
    "\n",
    "    def loss(self, pred, label):\n",
    "        loss = self.cross_entropy_loss(pred, label)\n",
    "        return loss\n",
    "    \n",
    "    def get_layers(self):\n",
    "\n",
    "        for i in range(len(self.units)-1):\n",
    "            layer = nn.Linear(self.units[i], self.units[i+1])\n",
    "            self.layers.append(layer)\n",
    "        \n",
    "        layer = nn.Linear(self.units[-1], self.n_classes)\n",
    "        self.layers.append(layer)"
   ]
  },
  {
   "attachments": {},
   "cell_type": "markdown",
   "metadata": {},
   "source": [
    "### Test Model"
   ]
  },
  {
   "cell_type": "code",
   "execution_count": 113,
   "metadata": {},
   "outputs": [
    {
     "name": "stdout",
     "output_type": "stream",
     "text": [
      "Model Intialized: clf_model(\n",
      "  (output): Softmax(dim=1)\n",
      "  (layers): ModuleList(\n",
      "    (0): Linear(in_features=784, out_features=45, bias=True)\n",
      "    (1): Linear(in_features=45, out_features=30, bias=True)\n",
      "    (2): Linear(in_features=30, out_features=10, bias=True)\n",
      "  )\n",
      "  (cross_entropy_loss): CrossEntropyLoss()\n",
      ")\n"
     ]
    },
    {
     "data": {
      "text/plain": [
       "clf_model(\n",
       "  (output): Softmax(dim=1)\n",
       "  (layers): ModuleList(\n",
       "    (0): Linear(in_features=784, out_features=45, bias=True)\n",
       "    (1): Linear(in_features=45, out_features=30, bias=True)\n",
       "    (2): Linear(in_features=30, out_features=10, bias=True)\n",
       "  )\n",
       "  (cross_entropy_loss): CrossEntropyLoss()\n",
       ")"
      ]
     },
     "execution_count": 113,
     "metadata": {},
     "output_type": "execute_result"
    }
   ],
   "source": [
    "model = clf_model(units = [28*28, 45, 30], n_classes = 10).to(device)\n",
    "model"
   ]
  },
  {
   "cell_type": "code",
   "execution_count": 114,
   "metadata": {},
   "outputs": [
    {
     "name": "stdout",
     "output_type": "stream",
     "text": [
      "Tensor Shape = torch.Size([12, 784])\n",
      "Tensor Device = cuda:0\n"
     ]
    }
   ],
   "source": [
    "temp_x = np.random.random(size=(12,28*28))\n",
    "temp_x = torch.FloatTensor(temp_x).to(device)\n",
    "print(f'Tensor Shape = {temp_x.shape}')\n",
    "print(f'Tensor Device = {temp_x.device}')"
   ]
  },
  {
   "cell_type": "code",
   "execution_count": 115,
   "metadata": {},
   "outputs": [
    {
     "name": "stdout",
     "output_type": "stream",
     "text": [
      "Tensor Shape = torch.Size([12])\n",
      "Tensor Device = cuda:0\n"
     ]
    }
   ],
   "source": [
    "temp_lbl = np.random.randint(0, 9, size = 12)\n",
    "temp_lbl = torch.LongTensor(temp_lbl).to(device)\n",
    "print(f'Tensor Shape = {temp_lbl.shape}')\n",
    "print(f'Tensor Device = {temp_lbl.device}')"
   ]
  },
  {
   "cell_type": "code",
   "execution_count": 116,
   "metadata": {},
   "outputs": [
    {
     "name": "stdout",
     "output_type": "stream",
     "text": [
      "Shape of predictions  = torch.Size([12, 10])\n"
     ]
    }
   ],
   "source": [
    "pred = model.forward(temp_x)\n",
    "print(f'Shape of predictions  = {pred.shape}')"
   ]
  },
  {
   "cell_type": "code",
   "execution_count": 117,
   "metadata": {},
   "outputs": [
    {
     "data": {
      "text/plain": [
       "tensor(2.3059, device='cuda:0', grad_fn=<NllLossBackward0>)"
      ]
     },
     "execution_count": 117,
     "metadata": {},
     "output_type": "execute_result"
    }
   ],
   "source": [
    "model.loss(pred, temp_lbl)"
   ]
  },
  {
   "attachments": {},
   "cell_type": "markdown",
   "metadata": {},
   "source": [
    "## Create Dataloader"
   ]
  },
  {
   "cell_type": "code",
   "execution_count": 118,
   "metadata": {},
   "outputs": [],
   "source": [
    "class MNIST():\n",
    "\n",
    "    def __init__(self, input_path:str):\n",
    "        self.df = pd.read_csv(input_path)\n",
    "        print(f'Loaded data, {self.df.shape[0]} samples')\n",
    "        self.labels = self.get_label()\n",
    "        self.inputs = self.get_input()\n",
    "        self.normalize_inputs()\n",
    "        print('Loaded input data')\n",
    "        print(f'Input data shape = {self.inputs.shape}')\n",
    "        print(f'Output data shape = {self.labels.shape}')\n",
    "        self.df = None\n",
    "\n",
    "    def get_label(self):\n",
    "        return self.df['label'].values\n",
    "    \n",
    "    def get_input(self):\n",
    "        columns = self.df.columns.tolist()\n",
    "        columns.remove('label')\n",
    "        return self.df[columns].values\n",
    "\n",
    "    def normalize_inputs(self):\n",
    "        self.inputs = self.inputs/255\n",
    "      \n",
    "        "
   ]
  },
  {
   "cell_type": "code",
   "execution_count": 119,
   "metadata": {},
   "outputs": [],
   "source": [
    "class MNISTLoader(Dataset):\n",
    "    def __init__(self, data):\n",
    "        super().__init__()\n",
    "        self.data = data\n",
    "        self.labels = self.data.labels\n",
    "        self.inputs = self.data.inputs\n",
    "        self.n_samples = self.inputs.shape[0]\n",
    "        self.input_dim = self.inputs.shape[1]\n",
    "        \n",
    "    def __len__(self):\n",
    "        return self.n_samples\n",
    "    \n",
    "    def __getitem__(self, index):\n",
    "\n",
    "        x = self.inputs[index]\n",
    "        y = self.labels[index]\n",
    "        return torch.FloatTensor(x), y\n",
    "    \n",
    "    @staticmethod\n",
    "    def collate():\n",
    "        pass\n",
    "\n"
   ]
  },
  {
   "cell_type": "code",
   "execution_count": 120,
   "metadata": {},
   "outputs": [
    {
     "name": "stdout",
     "output_type": "stream",
     "text": [
      "Loaded data, 60000 samples\n",
      "Loaded input data\n",
      "Input data shape = (60000, 784)\n",
      "Output data shape = (60000,)\n"
     ]
    }
   ],
   "source": [
    "data_path = '../data/mnist/raw/mnist_train.csv'\n",
    "data = MNIST(data_path)"
   ]
  },
  {
   "cell_type": "code",
   "execution_count": 121,
   "metadata": {},
   "outputs": [],
   "source": [
    "dataset = MNISTLoader(data)"
   ]
  },
  {
   "cell_type": "code",
   "execution_count": 122,
   "metadata": {},
   "outputs": [
    {
     "name": "stdout",
     "output_type": "stream",
     "text": [
      "Loaded data, 10000 samples\n",
      "Loaded input data\n",
      "Input data shape = (10000, 784)\n",
      "Output data shape = (10000,)\n"
     ]
    }
   ],
   "source": [
    "test_data_path = '../data/mnist/raw/mnist_test.csv'\n",
    "test_data = MNIST(test_data_path)"
   ]
  },
  {
   "cell_type": "code",
   "execution_count": 123,
   "metadata": {},
   "outputs": [
    {
     "data": {
      "text/plain": [
       "tensor([0.0000, 0.0000, 0.0000, 0.0000, 0.0000, 0.0000, 0.0000, 0.0000, 0.0000,\n",
       "        0.0000, 0.0000, 0.0000, 0.0000, 0.0000, 0.0000, 0.0000, 0.0000, 0.0000,\n",
       "        0.0000, 0.0000, 0.0000, 0.0000, 0.0000, 0.0000, 0.0000, 0.0000, 0.0000,\n",
       "        0.0000, 0.0000, 0.0000, 0.0000, 0.0000, 0.0000, 0.0000, 0.0000, 0.0000,\n",
       "        0.0000, 0.0000, 0.0000, 0.0000, 0.0000, 0.0000, 0.0000, 0.0000, 0.0000,\n",
       "        0.0000, 0.0000, 0.0000, 0.0000, 0.0000, 0.0000, 0.0000, 0.0000, 0.0000,\n",
       "        0.0000, 0.0000, 0.0000, 0.0000, 0.0000, 0.0000, 0.0000, 0.0000, 0.0000,\n",
       "        0.0000, 0.0000, 0.0000, 0.0000, 0.0000, 0.0000, 0.0000, 0.0000, 0.0000,\n",
       "        0.0000, 0.0000, 0.0000, 0.0000, 0.0000, 0.0000, 0.0000, 0.0000, 0.0000,\n",
       "        0.0000, 0.0000, 0.0000, 0.0000, 0.0000, 0.0000, 0.0000, 0.0000, 0.0000,\n",
       "        0.0000, 0.0000, 0.0000, 0.0000, 0.0000, 0.0000, 0.0000, 0.0000, 0.0000,\n",
       "        0.0000, 0.0000, 0.0000, 0.0000, 0.0000, 0.0000, 0.0000, 0.0000, 0.0000,\n",
       "        0.0000, 0.0000, 0.0000, 0.0000, 0.0000, 0.0000, 0.0000, 0.0000, 0.0000,\n",
       "        0.0000, 0.0000, 0.0000, 0.0000, 0.0000, 0.0000, 0.0000, 0.0000, 0.0000,\n",
       "        0.0000, 0.0000, 0.0000, 0.0000, 0.0000, 0.0000, 0.0000, 0.0000, 0.0000,\n",
       "        0.0000, 0.0000, 0.0000, 0.0000, 0.0000, 0.0000, 0.0000, 0.0000, 0.0000,\n",
       "        0.0000, 0.0000, 0.0000, 0.0000, 0.0000, 0.0000, 0.0000, 0.0000, 0.0118,\n",
       "        0.0706, 0.0706, 0.0706, 0.4941, 0.5333, 0.6863, 0.1020, 0.6510, 1.0000,\n",
       "        0.9686, 0.4980, 0.0000, 0.0000, 0.0000, 0.0000, 0.0000, 0.0000, 0.0000,\n",
       "        0.0000, 0.0000, 0.0000, 0.0000, 0.0000, 0.1176, 0.1412, 0.3686, 0.6039,\n",
       "        0.6667, 0.9922, 0.9922, 0.9922, 0.9922, 0.9922, 0.8824, 0.6745, 0.9922,\n",
       "        0.9490, 0.7647, 0.2510, 0.0000, 0.0000, 0.0000, 0.0000, 0.0000, 0.0000,\n",
       "        0.0000, 0.0000, 0.0000, 0.0000, 0.0000, 0.1922, 0.9333, 0.9922, 0.9922,\n",
       "        0.9922, 0.9922, 0.9922, 0.9922, 0.9922, 0.9922, 0.9843, 0.3647, 0.3216,\n",
       "        0.3216, 0.2196, 0.1529, 0.0000, 0.0000, 0.0000, 0.0000, 0.0000, 0.0000,\n",
       "        0.0000, 0.0000, 0.0000, 0.0000, 0.0000, 0.0000, 0.0706, 0.8588, 0.9922,\n",
       "        0.9922, 0.9922, 0.9922, 0.9922, 0.7765, 0.7137, 0.9686, 0.9451, 0.0000,\n",
       "        0.0000, 0.0000, 0.0000, 0.0000, 0.0000, 0.0000, 0.0000, 0.0000, 0.0000,\n",
       "        0.0000, 0.0000, 0.0000, 0.0000, 0.0000, 0.0000, 0.0000, 0.0000, 0.3137,\n",
       "        0.6118, 0.4196, 0.9922, 0.9922, 0.8039, 0.0431, 0.0000, 0.1686, 0.6039,\n",
       "        0.0000, 0.0000, 0.0000, 0.0000, 0.0000, 0.0000, 0.0000, 0.0000, 0.0000,\n",
       "        0.0000, 0.0000, 0.0000, 0.0000, 0.0000, 0.0000, 0.0000, 0.0000, 0.0000,\n",
       "        0.0000, 0.0549, 0.0039, 0.6039, 0.9922, 0.3529, 0.0000, 0.0000, 0.0000,\n",
       "        0.0000, 0.0000, 0.0000, 0.0000, 0.0000, 0.0000, 0.0000, 0.0000, 0.0000,\n",
       "        0.0000, 0.0000, 0.0000, 0.0000, 0.0000, 0.0000, 0.0000, 0.0000, 0.0000,\n",
       "        0.0000, 0.0000, 0.0000, 0.0000, 0.5451, 0.9922, 0.7451, 0.0078, 0.0000,\n",
       "        0.0000, 0.0000, 0.0000, 0.0000, 0.0000, 0.0000, 0.0000, 0.0000, 0.0000,\n",
       "        0.0000, 0.0000, 0.0000, 0.0000, 0.0000, 0.0000, 0.0000, 0.0000, 0.0000,\n",
       "        0.0000, 0.0000, 0.0000, 0.0000, 0.0000, 0.0431, 0.7451, 0.9922, 0.2745,\n",
       "        0.0000, 0.0000, 0.0000, 0.0000, 0.0000, 0.0000, 0.0000, 0.0000, 0.0000,\n",
       "        0.0000, 0.0000, 0.0000, 0.0000, 0.0000, 0.0000, 0.0000, 0.0000, 0.0000,\n",
       "        0.0000, 0.0000, 0.0000, 0.0000, 0.0000, 0.0000, 0.0000, 0.1373, 0.9451,\n",
       "        0.8824, 0.6275, 0.4235, 0.0039, 0.0000, 0.0000, 0.0000, 0.0000, 0.0000,\n",
       "        0.0000, 0.0000, 0.0000, 0.0000, 0.0000, 0.0000, 0.0000, 0.0000, 0.0000,\n",
       "        0.0000, 0.0000, 0.0000, 0.0000, 0.0000, 0.0000, 0.0000, 0.0000, 0.0000,\n",
       "        0.3176, 0.9412, 0.9922, 0.9922, 0.4667, 0.0980, 0.0000, 0.0000, 0.0000,\n",
       "        0.0000, 0.0000, 0.0000, 0.0000, 0.0000, 0.0000, 0.0000, 0.0000, 0.0000,\n",
       "        0.0000, 0.0000, 0.0000, 0.0000, 0.0000, 0.0000, 0.0000, 0.0000, 0.0000,\n",
       "        0.0000, 0.0000, 0.1765, 0.7294, 0.9922, 0.9922, 0.5882, 0.1059, 0.0000,\n",
       "        0.0000, 0.0000, 0.0000, 0.0000, 0.0000, 0.0000, 0.0000, 0.0000, 0.0000,\n",
       "        0.0000, 0.0000, 0.0000, 0.0000, 0.0000, 0.0000, 0.0000, 0.0000, 0.0000,\n",
       "        0.0000, 0.0000, 0.0000, 0.0000, 0.0627, 0.3647, 0.9882, 0.9922, 0.7333,\n",
       "        0.0000, 0.0000, 0.0000, 0.0000, 0.0000, 0.0000, 0.0000, 0.0000, 0.0000,\n",
       "        0.0000, 0.0000, 0.0000, 0.0000, 0.0000, 0.0000, 0.0000, 0.0000, 0.0000,\n",
       "        0.0000, 0.0000, 0.0000, 0.0000, 0.0000, 0.0000, 0.0000, 0.9765, 0.9922,\n",
       "        0.9765, 0.2510, 0.0000, 0.0000, 0.0000, 0.0000, 0.0000, 0.0000, 0.0000,\n",
       "        0.0000, 0.0000, 0.0000, 0.0000, 0.0000, 0.0000, 0.0000, 0.0000, 0.0000,\n",
       "        0.0000, 0.0000, 0.0000, 0.0000, 0.0000, 0.1804, 0.5098, 0.7176, 0.9922,\n",
       "        0.9922, 0.8118, 0.0078, 0.0000, 0.0000, 0.0000, 0.0000, 0.0000, 0.0000,\n",
       "        0.0000, 0.0000, 0.0000, 0.0000, 0.0000, 0.0000, 0.0000, 0.0000, 0.0000,\n",
       "        0.0000, 0.0000, 0.0000, 0.0000, 0.1529, 0.5804, 0.8980, 0.9922, 0.9922,\n",
       "        0.9922, 0.9804, 0.7137, 0.0000, 0.0000, 0.0000, 0.0000, 0.0000, 0.0000,\n",
       "        0.0000, 0.0000, 0.0000, 0.0000, 0.0000, 0.0000, 0.0000, 0.0000, 0.0000,\n",
       "        0.0000, 0.0000, 0.0000, 0.0941, 0.4471, 0.8667, 0.9922, 0.9922, 0.9922,\n",
       "        0.9922, 0.7882, 0.3059, 0.0000, 0.0000, 0.0000, 0.0000, 0.0000, 0.0000,\n",
       "        0.0000, 0.0000, 0.0000, 0.0000, 0.0000, 0.0000, 0.0000, 0.0000, 0.0000,\n",
       "        0.0000, 0.0000, 0.0902, 0.2588, 0.8353, 0.9922, 0.9922, 0.9922, 0.9922,\n",
       "        0.7765, 0.3176, 0.0078, 0.0000, 0.0000, 0.0000, 0.0000, 0.0000, 0.0000,\n",
       "        0.0000, 0.0000, 0.0000, 0.0000, 0.0000, 0.0000, 0.0000, 0.0000, 0.0000,\n",
       "        0.0000, 0.0706, 0.6706, 0.8588, 0.9922, 0.9922, 0.9922, 0.9922, 0.7647,\n",
       "        0.3137, 0.0353, 0.0000, 0.0000, 0.0000, 0.0000, 0.0000, 0.0000, 0.0000,\n",
       "        0.0000, 0.0000, 0.0000, 0.0000, 0.0000, 0.0000, 0.0000, 0.0000, 0.0000,\n",
       "        0.2157, 0.6745, 0.8863, 0.9922, 0.9922, 0.9922, 0.9922, 0.9569, 0.5216,\n",
       "        0.0431, 0.0000, 0.0000, 0.0000, 0.0000, 0.0000, 0.0000, 0.0000, 0.0000,\n",
       "        0.0000, 0.0000, 0.0000, 0.0000, 0.0000, 0.0000, 0.0000, 0.0000, 0.0000,\n",
       "        0.0000, 0.5333, 0.9922, 0.9922, 0.9922, 0.8314, 0.5294, 0.5176, 0.0627,\n",
       "        0.0000, 0.0000, 0.0000, 0.0000, 0.0000, 0.0000, 0.0000, 0.0000, 0.0000,\n",
       "        0.0000, 0.0000, 0.0000, 0.0000, 0.0000, 0.0000, 0.0000, 0.0000, 0.0000,\n",
       "        0.0000, 0.0000, 0.0000, 0.0000, 0.0000, 0.0000, 0.0000, 0.0000, 0.0000,\n",
       "        0.0000, 0.0000, 0.0000, 0.0000, 0.0000, 0.0000, 0.0000, 0.0000, 0.0000,\n",
       "        0.0000, 0.0000, 0.0000, 0.0000, 0.0000, 0.0000, 0.0000, 0.0000, 0.0000,\n",
       "        0.0000, 0.0000, 0.0000, 0.0000, 0.0000, 0.0000, 0.0000, 0.0000, 0.0000,\n",
       "        0.0000, 0.0000, 0.0000, 0.0000, 0.0000, 0.0000, 0.0000, 0.0000, 0.0000,\n",
       "        0.0000, 0.0000, 0.0000, 0.0000, 0.0000, 0.0000, 0.0000, 0.0000, 0.0000,\n",
       "        0.0000, 0.0000, 0.0000, 0.0000, 0.0000, 0.0000, 0.0000, 0.0000, 0.0000,\n",
       "        0.0000, 0.0000, 0.0000, 0.0000, 0.0000, 0.0000, 0.0000, 0.0000, 0.0000,\n",
       "        0.0000, 0.0000, 0.0000, 0.0000, 0.0000, 0.0000, 0.0000, 0.0000, 0.0000,\n",
       "        0.0000])"
      ]
     },
     "execution_count": 123,
     "metadata": {},
     "output_type": "execute_result"
    }
   ],
   "source": [
    "dataset[0][0]"
   ]
  },
  {
   "cell_type": "code",
   "execution_count": 162,
   "metadata": {},
   "outputs": [],
   "source": [
    "batch_size = 64\n",
    "shuffle = True\n",
    "epochs = 5\n",
    "initial_lr = 0.01\n",
    "units = [data.inputs.shape[1], 30]"
   ]
  },
  {
   "cell_type": "code",
   "execution_count": 163,
   "metadata": {},
   "outputs": [],
   "source": [
    "dataloader = DataLoader(dataset=dataset, batch_size=batch_size, shuffle=shuffle)"
   ]
  },
  {
   "cell_type": "code",
   "execution_count": 164,
   "metadata": {},
   "outputs": [
    {
     "name": "stdout",
     "output_type": "stream",
     "text": [
      "Batch type - <class 'list'>\n",
      "torch.Size([64, 784])\n",
      "torch.Size([64])\n"
     ]
    }
   ],
   "source": [
    "for i, batch in enumerate(dataloader):\n",
    "    print(f'Batch type - {type(batch)}')\n",
    "    print(batch[0].shape)\n",
    "    print(batch[1].shape)\n",
    "    break"
   ]
  },
  {
   "attachments": {},
   "cell_type": "markdown",
   "metadata": {},
   "source": [
    "## Train the Model"
   ]
  },
  {
   "cell_type": "code",
   "execution_count": 165,
   "metadata": {},
   "outputs": [],
   "source": [
    "test_inputs = test_data.inputs\n",
    "test_labels = test_data.labels"
   ]
  },
  {
   "cell_type": "code",
   "execution_count": 166,
   "metadata": {},
   "outputs": [
    {
     "name": "stdout",
     "output_type": "stream",
     "text": [
      "Model Intialized: clf_model(\n",
      "  (output): Softmax(dim=1)\n",
      "  (layers): ModuleList(\n",
      "    (0): Linear(in_features=784, out_features=30, bias=True)\n",
      "    (1): Linear(in_features=30, out_features=10, bias=True)\n",
      "  )\n",
      "  (cross_entropy_loss): CrossEntropyLoss()\n",
      ")\n"
     ]
    }
   ],
   "source": [
    "clf = clf_model(units=units).to(device)"
   ]
  },
  {
   "cell_type": "code",
   "execution_count": 167,
   "metadata": {},
   "outputs": [],
   "source": [
    "dataloader = DataLoader(dataset=dataset, batch_size=batch_size, shuffle=shuffle)"
   ]
  },
  {
   "cell_type": "code",
   "execution_count": 168,
   "metadata": {},
   "outputs": [],
   "source": [
    "optimizer = optim.Adam(clf.parameters(), lr=initial_lr)"
   ]
  },
  {
   "cell_type": "code",
   "execution_count": 169,
   "metadata": {},
   "outputs": [
    {
     "data": {
      "text/plain": [
       "938"
      ]
     },
     "execution_count": 169,
     "metadata": {},
     "output_type": "execute_result"
    }
   ],
   "source": [
    "len(dataloader)"
   ]
  },
  {
   "cell_type": "code",
   "execution_count": 170,
   "metadata": {},
   "outputs": [
    {
     "name": "stdout",
     "output_type": "stream",
     "text": [
      "CPU times: total: 0 ns\n",
      "Wall time: 0 ns\n"
     ]
    },
    {
     "name": "stderr",
     "output_type": "stream",
     "text": [
      "223it [00:01, 181.52it/s]"
     ]
    },
    {
     "name": "stdout",
     "output_type": "stream",
     "text": [
      "Epoch: 0, Seq: 200/938, Loss: 331.0525, ACCURACY : 0.8930, Lr: 0.008909\n"
     ]
    },
    {
     "name": "stderr",
     "output_type": "stream",
     "text": [
      "437it [00:02, 188.24it/s]"
     ]
    },
    {
     "name": "stdout",
     "output_type": "stream",
     "text": [
      "Epoch: 0, Seq: 400/938, Loss: 314.0885, ACCURACY : 0.9103, Lr: 0.006129\n"
     ]
    },
    {
     "name": "stderr",
     "output_type": "stream",
     "text": [
      "631it [00:03, 169.23it/s]"
     ]
    },
    {
     "name": "stdout",
     "output_type": "stream",
     "text": [
      "Epoch: 0, Seq: 600/938, Loss: 311.7034, ACCURACY : 0.9155, Lr: 0.002861\n"
     ]
    },
    {
     "name": "stderr",
     "output_type": "stream",
     "text": [
      "820it [00:04, 170.22it/s]"
     ]
    },
    {
     "name": "stdout",
     "output_type": "stream",
     "text": [
      "Epoch: 0, Seq: 800/938, Loss: 309.8457, ACCURACY : 0.9210, Lr: 0.000517\n"
     ]
    },
    {
     "name": "stderr",
     "output_type": "stream",
     "text": [
      "938it [00:05, 177.65it/s]\n",
      "237it [00:01, 178.14it/s]"
     ]
    },
    {
     "name": "stdout",
     "output_type": "stream",
     "text": [
      "Epoch: 1, Seq: 200/938, Loss: 315.0016, ACCURACY : 0.9030, Lr: 0.008909\n"
     ]
    },
    {
     "name": "stderr",
     "output_type": "stream",
     "text": [
      "421it [00:02, 177.84it/s]"
     ]
    },
    {
     "name": "stdout",
     "output_type": "stream",
     "text": [
      "Epoch: 1, Seq: 400/938, Loss: 313.1842, ACCURACY : 0.9053, Lr: 0.006129\n"
     ]
    },
    {
     "name": "stderr",
     "output_type": "stream",
     "text": [
      "634it [00:03, 183.35it/s]"
     ]
    },
    {
     "name": "stdout",
     "output_type": "stream",
     "text": [
      "Epoch: 1, Seq: 600/938, Loss: 310.7623, ACCURACY : 0.9188, Lr: 0.002861\n"
     ]
    },
    {
     "name": "stderr",
     "output_type": "stream",
     "text": [
      "825it [00:04, 189.18it/s]"
     ]
    },
    {
     "name": "stdout",
     "output_type": "stream",
     "text": [
      "Epoch: 1, Seq: 800/938, Loss: 309.1788, ACCURACY : 0.9226, Lr: 0.000517\n"
     ]
    },
    {
     "name": "stderr",
     "output_type": "stream",
     "text": [
      "938it [00:04, 189.39it/s]\n",
      "237it [00:01, 179.50it/s]"
     ]
    },
    {
     "name": "stdout",
     "output_type": "stream",
     "text": [
      "Epoch: 2, Seq: 200/938, Loss: 313.8687, ACCURACY : 0.9121, Lr: 0.008909\n"
     ]
    },
    {
     "name": "stderr",
     "output_type": "stream",
     "text": [
      "425it [00:02, 186.42it/s]"
     ]
    },
    {
     "name": "stdout",
     "output_type": "stream",
     "text": [
      "Epoch: 2, Seq: 400/938, Loss: 311.8864, ACCURACY : 0.9092, Lr: 0.006129\n"
     ]
    },
    {
     "name": "stderr",
     "output_type": "stream",
     "text": [
      "641it [00:03, 192.90it/s]"
     ]
    },
    {
     "name": "stdout",
     "output_type": "stream",
     "text": [
      "Epoch: 2, Seq: 600/938, Loss: 310.2259, ACCURACY : 0.9212, Lr: 0.002861\n"
     ]
    },
    {
     "name": "stderr",
     "output_type": "stream",
     "text": [
      "824it [00:04, 177.07it/s]"
     ]
    },
    {
     "name": "stdout",
     "output_type": "stream",
     "text": [
      "Epoch: 2, Seq: 800/938, Loss: 308.1536, ACCURACY : 0.9237, Lr: 0.000517\n"
     ]
    },
    {
     "name": "stderr",
     "output_type": "stream",
     "text": [
      "938it [00:04, 188.13it/s]\n",
      "225it [00:01, 190.38it/s]"
     ]
    },
    {
     "name": "stdout",
     "output_type": "stream",
     "text": [
      "Epoch: 3, Seq: 200/938, Loss: 313.1513, ACCURACY : 0.9118, Lr: 0.008909\n"
     ]
    },
    {
     "name": "stderr",
     "output_type": "stream",
     "text": [
      "441it [00:02, 180.49it/s]"
     ]
    },
    {
     "name": "stdout",
     "output_type": "stream",
     "text": [
      "Epoch: 3, Seq: 400/938, Loss: 311.8642, ACCURACY : 0.9176, Lr: 0.006129\n"
     ]
    },
    {
     "name": "stderr",
     "output_type": "stream",
     "text": [
      "623it [00:03, 172.11it/s]"
     ]
    },
    {
     "name": "stdout",
     "output_type": "stream",
     "text": [
      "Epoch: 3, Seq: 600/938, Loss: 308.1946, ACCURACY : 0.9218, Lr: 0.002861\n"
     ]
    },
    {
     "name": "stderr",
     "output_type": "stream",
     "text": [
      "827it [00:04, 178.01it/s]"
     ]
    },
    {
     "name": "stdout",
     "output_type": "stream",
     "text": [
      "Epoch: 3, Seq: 800/938, Loss: 308.6600, ACCURACY : 0.9265, Lr: 0.000517\n"
     ]
    },
    {
     "name": "stderr",
     "output_type": "stream",
     "text": [
      "938it [00:05, 185.20it/s]\n",
      "239it [00:01, 182.13it/s]"
     ]
    },
    {
     "name": "stdout",
     "output_type": "stream",
     "text": [
      "Epoch: 4, Seq: 200/938, Loss: 312.3098, ACCURACY : 0.8973, Lr: 0.008909\n"
     ]
    },
    {
     "name": "stderr",
     "output_type": "stream",
     "text": [
      "434it [00:02, 189.31it/s]"
     ]
    },
    {
     "name": "stdout",
     "output_type": "stream",
     "text": [
      "Epoch: 4, Seq: 400/938, Loss: 310.6495, ACCURACY : 0.9161, Lr: 0.006129\n"
     ]
    },
    {
     "name": "stderr",
     "output_type": "stream",
     "text": [
      "626it [00:03, 173.71it/s]"
     ]
    },
    {
     "name": "stdout",
     "output_type": "stream",
     "text": [
      "Epoch: 4, Seq: 600/938, Loss: 310.5061, ACCURACY : 0.9207, Lr: 0.002861\n"
     ]
    },
    {
     "name": "stderr",
     "output_type": "stream",
     "text": [
      "839it [00:04, 188.34it/s]"
     ]
    },
    {
     "name": "stdout",
     "output_type": "stream",
     "text": [
      "Epoch: 4, Seq: 800/938, Loss: 308.1838, ACCURACY : 0.9238, Lr: 0.000517\n"
     ]
    },
    {
     "name": "stderr",
     "output_type": "stream",
     "text": [
      "938it [00:04, 197.22it/s]\n"
     ]
    }
   ],
   "source": [
    "%time\n",
    "results = []\n",
    "start_time = datetime.datetime.now()\n",
    "for epoch in range(epochs):\n",
    "    scheduler = optim.lr_scheduler.CosineAnnealingWarmRestarts(optimizer, len(dataloader))\n",
    "    running_loss = 0\n",
    "    \n",
    "    for i, batches in tqdm(enumerate(dataloader)):\n",
    "        input = batches[0].to(device)\n",
    "        label = batches[1].to(device)\n",
    "\n",
    "        optimizer.zero_grad()\n",
    "\n",
    "        pred = clf.forward(input)\n",
    "        loss = clf.loss(pred, label)\n",
    "        loss.backward()\n",
    "        optimizer.step()\n",
    "\n",
    "        scheduler.step()\n",
    "        running_loss += loss.item()\n",
    "\n",
    "        if (i > 0) and (i%200 == 0):\n",
    "            with torch.no_grad():\n",
    "                pred = clf.forward(torch.FloatTensor(test_inputs).to(device))\n",
    "                pred = pred.detach().cpu().numpy()\n",
    "                pred = np.argmax(pred, axis=1)\n",
    "                accuracy = accuracy_score(test_labels, pred)\n",
    "                # roc_auc = roc_auc_score(test_labels, pred)\n",
    "            print(\"Epoch: {}, Seq: {:,}/{:,}, \" \\\n",
    "                \"Loss: {:.4f}, ACCURACY : {:.4f}, Lr: {:.6f}\".format(epoch, i, len(dataloader), running_loss,\n",
    "                                                                        accuracy, optimizer.param_groups[0]['lr']))\n",
    "            results.append([epoch, i, running_loss, accuracy])\n",
    "            running_loss = 0\n",
    "\n",
    "\n",
    "end_time = datetime.datetime.now()  "
   ]
  },
  {
   "attachments": {},
   "cell_type": "markdown",
   "metadata": {},
   "source": [
    "## Check model's robustness to change in Data Distribution"
   ]
  },
  {
   "cell_type": "code",
   "execution_count": null,
   "metadata": {},
   "outputs": [],
   "source": []
  },
  {
   "cell_type": "code",
   "execution_count": 61,
   "metadata": {},
   "outputs": [],
   "source": [
    "def rotate_img(x, deg):\n",
    "    import scipy.ndimage as nd\n",
    "    return nd.rotate(x.reshape(28,28),deg,reshape=False).ravel()"
   ]
  },
  {
   "cell_type": "code",
   "execution_count": 96,
   "metadata": {},
   "outputs": [
    {
     "data": {
      "text/plain": [
       "784"
      ]
     },
     "execution_count": 96,
     "metadata": {},
     "output_type": "execute_result"
    }
   ],
   "source": [
    "28*28"
   ]
  },
  {
   "cell_type": "code",
   "execution_count": 111,
   "metadata": {},
   "outputs": [
    {
     "data": {
      "image/png": "[encoded data removed]",
      "text/plain": [
       "<Figure size 640x480 with 1 Axes>"
      ]
     },
     "metadata": {},
     "output_type": "display_data"
    },
    {
     "data": {
      "image/png": "[encoded data removed]",
      "text/plain": [
       "<Figure size 620x10000 with 1 Axes>"
      ]
     },
     "metadata": {},
     "output_type": "display_data"
    }
   ],
   "source": [
    "idx = np.where(test_labels == 9)[0][5]\n",
    "img = test_inputs[idx]\n",
    "K = 10\n",
    "Mdeg = 180 \n",
    "Ndeg = int(Mdeg/10)+1\n",
    "ldeg = []\n",
    "lp = []\n",
    "lu=[]\n",
    "threshold = 0.5\n",
    "scores = np.zeros((1,K))\n",
    "rimgs = np.zeros((28,28*Ndeg))\n",
    "for i,deg in enumerate(np.linspace(0,Mdeg, Ndeg)):\n",
    "    nimg = rotate_img(img,deg)\n",
    "    p_pred_t = clf.forward(torch.FloatTensor(np.expand_dims(nimg, 0)).to(device))\n",
    "    p_pred_t = p_pred_t.detach().cpu().numpy()\n",
    "    scores += p_pred_t >= threshold\n",
    "    ldeg.append(deg)\n",
    "    lp.append(p_pred_t[0])\n",
    "    nimg = nimg.reshape(28,28)\n",
    "    rimgs[:,i*28:(i+1)*28] = nimg\n",
    "\n",
    "labels = np.arange(10)[scores[0].astype(bool)]\n",
    "lp = np.array(lp)[:,labels]\n",
    "c = ['black','blue','red','brown','purple','cyan', 'orange']\n",
    "marker = ['s','^','o', 'x', '']*2\n",
    "labels = labels.tolist()\n",
    "for i in range(len(labels)):\n",
    "    plt.plot(ldeg,lp[:,i],marker=marker[i],c=c[i])\n",
    "plt.legend(labels)\n",
    "\n",
    "plt.xlim([0,Mdeg])  \n",
    "plt.xlabel('Rotation Degree')\n",
    "plt.ylabel('Classification Probability')\n",
    "plt.show()\n",
    "\n",
    "plt.figure(figsize=[6.2,100])\n",
    "plt.imshow(1-rimgs,cmap='gray')\n",
    "plt.axis('off')\n",
    "plt.show()"
   ]
  },
  {
   "attachments": {},
   "cell_type": "markdown",
   "metadata": {},
   "source": [
    "## Create the EDL Model"
   ]
  },
  {
   "cell_type": "code",
   "execution_count": null,
   "metadata": {},
   "outputs": [],
   "source": [
    "class edl_clf_model(nn.Module):\n",
    "    def __init__(self, units:list, n_classes:int = 10):\n",
    "        super().__init__()\n",
    "        self.units = units\n",
    "        self.n_layers = len(self.units)\n",
    "        self.n_classes = n_classes\n",
    "        # self.output = nn.Softmax(dim=1)\n",
    "        self.output = self.DenseDirichlet()\n",
    "        \n",
    "        # layers\n",
    "        self.layers = nn.ModuleList()\n",
    "        self.get_layers()\n",
    "        ## loss\n",
    "        self.cross_entropy_loss = nn.CrossEntropyLoss()\n",
    "\n",
    "        print(f'Model Intialized: {self}')\n",
    "\n",
    "\n",
    "    def forward(self, x):\n",
    "        for layer in self.layers:\n",
    "            x = layer(x)\n",
    "\n",
    "        \n",
    "\n",
    "        x = self.output(x)\n",
    "\n",
    "        return x\n",
    "\n",
    "    def loss(self, pred, label):\n",
    "        loss = self.cross_entropy_loss(pred, label)\n",
    "        return loss\n",
    "    \n",
    "    def get_layers(self):\n",
    "\n",
    "        for i in range(len(self.units)-1):\n",
    "            layer = nn.Linear(self.units[i], self.units[i+1])\n",
    "            self.layers.append(layer)\n",
    "        \n",
    "        layer = nn.Linear(self.units[-1], self.n_classes)\n",
    "        self.layers.append(layer)"
   ]
  },
  {
   "attachments": {},
   "cell_type": "markdown",
   "metadata": {},
   "source": []
  }
 ],
 "metadata": {
  "kernelspec": {
   "display_name": "gml",
   "language": "python",
   "name": "python3"
  },
  "language_info": {
   "codemirror_mode": {
    "name": "ipython",
    "version": 3
   },
   "file_extension": ".py",
   "mimetype": "text/x-python",
   "name": "python",
   "nbconvert_exporter": "python",
   "pygments_lexer": "ipython3",
   "version": "3.8.16"
  },
  "orig_nbformat": 4
 },
 "nbformat": 4,
 "nbformat_minor": 2
}
